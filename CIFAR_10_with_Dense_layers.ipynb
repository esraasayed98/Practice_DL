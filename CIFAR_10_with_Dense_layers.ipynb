{
  "nbformat": 4,
  "nbformat_minor": 0,
  "metadata": {
    "colab": {
      "name": "CIFAR-10 with Dense layers.ipynb",
      "provenance": [],
      "collapsed_sections": [],
      "authorship_tag": "ABX9TyPhILOnsMOIHFDNOU8Dwpox",
      "include_colab_link": true
    },
    "kernelspec": {
      "name": "python3",
      "display_name": "Python 3"
    },
    "language_info": {
      "name": "python"
    },
    "accelerator": "GPU",
    "gpuClass": "standard"
  },
  "cells": [
    {
      "cell_type": "markdown",
      "metadata": {
        "id": "view-in-github",
        "colab_type": "text"
      },
      "source": [
        "<a href=\"https://colab.research.google.com/github/esraasayed98/Practice_DL/blob/main/CIFAR_10_with_Dense_layers.ipynb\" target=\"_parent\"><img src=\"https://colab.research.google.com/assets/colab-badge.svg\" alt=\"Open In Colab\"/></a>"
      ]
    },
    {
      "cell_type": "code",
      "execution_count": null,
      "metadata": {
        "id": "WA94okqUwEMo"
      },
      "outputs": [],
      "source": [
        "import numpy as np\n",
        "import pandas as pd\n",
        "import matplotlib.pyplot as plt\n",
        "from tensorflow.keras.datasets import cifar10\n"
      ]
    },
    {
      "cell_type": "markdown",
      "source": [
        "# Load data"
      ],
      "metadata": {
        "id": "RmSgRp3JJMQv"
      }
    },
    {
      "cell_type": "code",
      "source": [
        "(train_images, train_labels), (test_images, test_labels) = cifar10.load_data()"
      ],
      "metadata": {
        "id": "T-JWN_2_wTdJ"
      },
      "execution_count": null,
      "outputs": []
    },
    {
      "cell_type": "code",
      "source": [
        "train_images.shape"
      ],
      "metadata": {
        "colab": {
          "base_uri": "https://localhost:8080/"
        },
        "id": "-To5a_0Ewl0g",
        "outputId": "64268871-b2b5-4afa-b6bd-5a4cbf67e51e"
      },
      "execution_count": null,
      "outputs": [
        {
          "output_type": "execute_result",
          "data": {
            "text/plain": [
              "(50000, 32, 32, 3)"
            ]
          },
          "metadata": {},
          "execution_count": 3
        }
      ]
    },
    {
      "cell_type": "code",
      "source": [
        "np.unique(train_labels)"
      ],
      "metadata": {
        "colab": {
          "base_uri": "https://localhost:8080/"
        },
        "id": "7wzDvN9_woE1",
        "outputId": "c30854e9-bc44-4d31-dcea-141d0068f0cc"
      },
      "execution_count": null,
      "outputs": [
        {
          "output_type": "execute_result",
          "data": {
            "text/plain": [
              "array([0, 1, 2, 3, 4, 5, 6, 7, 8, 9], dtype=uint8)"
            ]
          },
          "metadata": {},
          "execution_count": 4
        }
      ]
    },
    {
      "cell_type": "code",
      "source": [
        "test_images.shape"
      ],
      "metadata": {
        "colab": {
          "base_uri": "https://localhost:8080/"
        },
        "id": "ERSUAGsswr0D",
        "outputId": "dd2189b8-923d-46fd-cbf5-05585a3b2ee0"
      },
      "execution_count": null,
      "outputs": [
        {
          "output_type": "execute_result",
          "data": {
            "text/plain": [
              "(10000, 32, 32, 3)"
            ]
          },
          "metadata": {},
          "execution_count": 5
        }
      ]
    },
    {
      "cell_type": "code",
      "source": [
        "test_labels.shape"
      ],
      "metadata": {
        "colab": {
          "base_uri": "https://localhost:8080/"
        },
        "id": "xFQfvIRBwvMh",
        "outputId": "572d97d6-d9e2-4b94-c0fc-ba791c25f1e3"
      },
      "execution_count": null,
      "outputs": [
        {
          "output_type": "execute_result",
          "data": {
            "text/plain": [
              "(10000, 1)"
            ]
          },
          "metadata": {},
          "execution_count": 6
        }
      ]
    },
    {
      "cell_type": "code",
      "source": [
        "np.unique(test_labels)"
      ],
      "metadata": {
        "colab": {
          "base_uri": "https://localhost:8080/"
        },
        "id": "Z7IEVWukw1U4",
        "outputId": "d5ec8d0d-df38-4aa0-ce69-8772cfcbcf47"
      },
      "execution_count": null,
      "outputs": [
        {
          "output_type": "execute_result",
          "data": {
            "text/plain": [
              "array([0, 1, 2, 3, 4, 5, 6, 7, 8, 9], dtype=uint8)"
            ]
          },
          "metadata": {},
          "execution_count": 7
        }
      ]
    },
    {
      "cell_type": "markdown",
      "source": [
        "# visualize images"
      ],
      "metadata": {
        "id": "v_OKRUgSxUtA"
      }
    },
    {
      "cell_type": "code",
      "source": [
        "img = test_images[0]\n",
        "plt.imshow(img)"
      ],
      "metadata": {
        "id": "C-z4D3LkDHXs",
        "colab": {
          "base_uri": "https://localhost:8080/",
          "height": 283
        },
        "outputId": "69049e44-5101-4d9f-b9fa-f179a1ec7e90"
      },
      "execution_count": null,
      "outputs": [
        {
          "output_type": "execute_result",
          "data": {
            "text/plain": [
              "<matplotlib.image.AxesImage at 0x7f37cd5b5f10>"
            ]
          },
          "metadata": {},
          "execution_count": 8
        },
        {
          "output_type": "display_data",
          "data": {
            "text/plain": [
              "<Figure size 432x288 with 1 Axes>"
            ],
            "image/png": "[encoded data removed]"
          },
          "metadata": {
            "needs_background": "light"
          }
        }
      ]
    },
    {
      "cell_type": "code",
      "source": [
        "# example of loading the cifar10 dataset\n",
        "import matplotlib.pyplot as plt\n",
        "# plot first few images\n",
        "for i in range(9):\n",
        "\t# define subplot\n",
        "\tplt.subplot(330 + 1 + i)\n",
        "\t# plot raw pixel data\n",
        "\tplt.imshow(train_images[i])\n",
        "# show the figure\n",
        "plt.show()"
      ],
      "metadata": {
        "colab": {
          "base_uri": "https://localhost:8080/",
          "height": 268
        },
        "id": "Wx6pAf4hzfm3",
        "outputId": "6de2a6d3-049e-47f5-c5f2-3ccfce2b529a"
      },
      "execution_count": null,
      "outputs": [
        {
          "output_type": "display_data",
          "data": {
            "text/plain": [
              "<Figure size 432x288 with 9 Axes>"
            ],
            "image/png": "[encoded data removed]"
          },
          "metadata": {
            "needs_background": "light"
          }
        }
      ]
    },
    {
      "cell_type": "markdown",
      "source": [
        "# Plot a histogram of number of examples per class in the training and test sets"
      ],
      "metadata": {
        "id": "yjqpLw-7ErZo"
      }
    },
    {
      "cell_type": "code",
      "source": [
        "# # number of examples in the training set\n",
        "# df=pd.DataFrame()\n",
        "# # df['label']=np.unique(train_labels)\n",
        "# df['train_count']=np.array(pd.DataFrame(train_labels).value_counts())\n",
        "# df['test_count']=np.array(pd.DataFrame(test_labels).value_counts())\n",
        "\n",
        "# df.plot(kind='hist',\n",
        "#         alpha=0.7,\n",
        "#         bins=30,\n",
        "#         title='Histogram Of Test Scores',\n",
        "#         rot=45,\n",
        "#         grid=True,\n",
        "#         figsize=(12,8),\n",
        "#         fontsize=15, \n",
        "#         color=['#A0E8AF', '#FFCF56'])"
      ],
      "metadata": {
        "id": "DKlxN4KSEseX"
      },
      "execution_count": null,
      "outputs": []
    },
    {
      "cell_type": "code",
      "source": [
        "# number of examples in the testing set\n",
        "pd.DataFrame(train_labels).value_counts()"
      ],
      "metadata": {
        "colab": {
          "base_uri": "https://localhost:8080/"
        },
        "id": "Ghmx1UFA8EGx",
        "outputId": "c97706c2-8f68-40dc-c3ee-8e6f5d55eb57"
      },
      "execution_count": null,
      "outputs": [
        {
          "output_type": "execute_result",
          "data": {
            "text/plain": [
              "0    5000\n",
              "1    5000\n",
              "2    5000\n",
              "3    5000\n",
              "4    5000\n",
              "5    5000\n",
              "6    5000\n",
              "7    5000\n",
              "8    5000\n",
              "9    5000\n",
              "dtype: int64"
            ]
          },
          "metadata": {},
          "execution_count": 11
        }
      ]
    },
    {
      "cell_type": "code",
      "source": [
        "# number of examples in the testing set\n",
        "pd.DataFrame(test_labels).value_counts()"
      ],
      "metadata": {
        "colab": {
          "base_uri": "https://localhost:8080/"
        },
        "id": "Ho296tRjEsa0",
        "outputId": "cdfa1d3d-5e91-4730-baaf-08e9d1cda82c"
      },
      "execution_count": null,
      "outputs": [
        {
          "output_type": "execute_result",
          "data": {
            "text/plain": [
              "0    1000\n",
              "1    1000\n",
              "2    1000\n",
              "3    1000\n",
              "4    1000\n",
              "5    1000\n",
              "6    1000\n",
              "7    1000\n",
              "8    1000\n",
              "9    1000\n",
              "dtype: int64"
            ]
          },
          "metadata": {},
          "execution_count": 12
        }
      ]
    },
    {
      "cell_type": "markdown",
      "source": [
        "# Reshape data "
      ],
      "metadata": {
        "id": "oODZBLzv3nOW"
      }
    },
    {
      "cell_type": "code",
      "source": [
        "train_images = train_images.reshape((50000, 32 * 32 * 3))\n",
        "train_images = train_images.astype('float32') / np.max(train_images[0])\n",
        "\n",
        "test_images = test_images.reshape((10000, 32 * 32 * 3))\n",
        "test_images = test_images.astype('float32') / np.max(test_images[0])"
      ],
      "metadata": {
        "id": "bzfbgyyAw3I1"
      },
      "execution_count": null,
      "outputs": []
    },
    {
      "cell_type": "code",
      "source": [
        "train_images.shape"
      ],
      "metadata": {
        "colab": {
          "base_uri": "https://localhost:8080/"
        },
        "id": "DWtxKYgixP4O",
        "outputId": "5c16058b-9498-455e-ec43-2c5f823f4782"
      },
      "execution_count": null,
      "outputs": [
        {
          "output_type": "execute_result",
          "data": {
            "text/plain": [
              "(50000, 3072)"
            ]
          },
          "metadata": {},
          "execution_count": 14
        }
      ]
    },
    {
      "cell_type": "code",
      "source": [
        "test_images.shape"
      ],
      "metadata": {
        "colab": {
          "base_uri": "https://localhost:8080/"
        },
        "id": "vuajTaBd9vBR",
        "outputId": "079b5be6-e686-468a-f02b-c5b0c7613678"
      },
      "execution_count": null,
      "outputs": [
        {
          "output_type": "execute_result",
          "data": {
            "text/plain": [
              "(10000, 3072)"
            ]
          },
          "metadata": {},
          "execution_count": 15
        }
      ]
    },
    {
      "cell_type": "markdown",
      "source": [
        "# one hot encoding to labels"
      ],
      "metadata": {
        "id": "RKgrF2El5lR1"
      }
    },
    {
      "cell_type": "code",
      "source": [
        "from tensorflow.keras.utils import to_categorical\n",
        "\n",
        "train_labels = to_categorical(train_labels)\n",
        "test_labels = to_categorical(test_labels)"
      ],
      "metadata": {
        "id": "p6sU8kmH5pmi"
      },
      "execution_count": null,
      "outputs": []
    },
    {
      "cell_type": "code",
      "source": [
        "train_labels.shape"
      ],
      "metadata": {
        "colab": {
          "base_uri": "https://localhost:8080/"
        },
        "id": "---DaRfP5swA",
        "outputId": "c2a62711-ce14-4f93-a8ca-9f62cd30f568"
      },
      "execution_count": null,
      "outputs": [
        {
          "output_type": "execute_result",
          "data": {
            "text/plain": [
              "(50000, 10)"
            ]
          },
          "metadata": {},
          "execution_count": 17
        }
      ]
    },
    {
      "cell_type": "code",
      "source": [
        "test_labels.shape"
      ],
      "metadata": {
        "colab": {
          "base_uri": "https://localhost:8080/"
        },
        "id": "0dHoDYPe5ywu",
        "outputId": "2ce9f985-b9c1-4416-dd65-0d93dbeb2b5e"
      },
      "execution_count": null,
      "outputs": [
        {
          "output_type": "execute_result",
          "data": {
            "text/plain": [
              "(10000, 10)"
            ]
          },
          "metadata": {},
          "execution_count": 18
        }
      ]
    },
    {
      "cell_type": "markdown",
      "source": [
        "# Split data"
      ],
      "metadata": {
        "id": "b7QOF-uU3rAT"
      }
    },
    {
      "cell_type": "code",
      "source": [
        "from sklearn.model_selection import train_test_split\n",
        "x_train, x_val, y_train, y_val = train_test_split(train_images,train_labels,test_size=0.2,shuffle=True, stratify=train_labels)"
      ],
      "metadata": {
        "id": "3RouwPeL3sWj"
      },
      "execution_count": null,
      "outputs": []
    },
    {
      "cell_type": "markdown",
      "source": [
        "# Model"
      ],
      "metadata": {
        "id": "9Dua9u1Y3s3z"
      }
    },
    {
      "cell_type": "code",
      "source": [
        "from tensorflow.keras import models\n",
        "from tensorflow.keras import layers\n",
        "\n",
        "network = models.Sequential()\n",
        "network.add(layers.Dense(512, activation='relu', name='Layer_1', input_shape=(32 * 32 * 3,)))\n",
        "network.add(layers.Dense(256, activation='relu', name='Layer_3'))\n",
        "network.add(layers.Dense(128, activation='relu', name='Layer_4'))\n",
        "network.add(layers.Dense(10, activation='softmax'))"
      ],
      "metadata": {
        "id": "P9A48OK03tyo"
      },
      "execution_count": null,
      "outputs": []
    },
    {
      "cell_type": "code",
      "source": [
        "network.summary()"
      ],
      "metadata": {
        "colab": {
          "base_uri": "https://localhost:8080/"
        },
        "id": "6_l8LCjP5-FX",
        "outputId": "71ff67cb-185c-4952-d1e0-b593cd09a6ab"
      },
      "execution_count": null,
      "outputs": [
        {
          "output_type": "stream",
          "name": "stdout",
          "text": [
            "Model: \"sequential\"\n",
            "_________________________________________________________________\n",
            " Layer (type)                Output Shape              Param #   \n",
            "=================================================================\n",
            " Layer_1 (Dense)             (None, 512)               1573376   \n",
            "                                                                 \n",
            " Layer_3 (Dense)             (None, 256)               131328    \n",
            "                                                                 \n",
            " Layer_4 (Dense)             (None, 128)               32896     \n",
            "                                                                 \n",
            " dense (Dense)               (None, 10)                1290      \n",
            "                                                                 \n",
            "=================================================================\n",
            "Total params: 1,738,890\n",
            "Trainable params: 1,738,890\n",
            "Non-trainable params: 0\n",
            "_________________________________________________________________\n"
          ]
        }
      ]
    },
    {
      "cell_type": "code",
      "source": [
        "from tensorflow.keras.utils import plot_model\n",
        "plot_model(network)"
      ],
      "metadata": {
        "colab": {
          "base_uri": "https://localhost:8080/",
          "height": 466
        },
        "id": "hkc8GYex5_-r",
        "outputId": "7a650db6-1280-4ede-d509-6f6d8cf74689"
      },
      "execution_count": null,
      "outputs": [
        {
          "output_type": "execute_result",
          "data": {
            "text/plain": [
              "<IPython.core.display.Image object>"
            ],
            "image/png": "[encoded data removed]"
          },
          "metadata": {},
          "execution_count": 22
        }
      ]
    },
    {
      "cell_type": "code",
      "source": [
        "from tensorflow import keras\n",
        "opt = keras.optimizers.Adam(learning_rate=10e-3)\n",
        "network.compile(optimizer=opt,\n",
        "                loss='categorical_crossentropy',\n",
        "                metrics=['accuracy'])"
      ],
      "metadata": {
        "id": "ue28PhMS6DND"
      },
      "execution_count": null,
      "outputs": []
    },
    {
      "cell_type": "code",
      "source": [
        "network.fit(train_images, train_labels, epochs=100, batch_size=64)"
      ],
      "metadata": {
        "colab": {
          "base_uri": "https://localhost:8080/"
        },
        "id": "dS0_hDXC6Iea",
        "outputId": "6bfdf003-6a2f-4137-a782-6f73af74bbc1"
      },
      "execution_count": null,
      "outputs": [
        {
          "metadata": {
            "tags": null
          },
          "name": "stdout",
          "output_type": "stream",
          "text": [
            "Epoch 1/100\n",
            "782/782 [==============================] - 6s 5ms/step - loss: 2.2020 - accuracy: 0.2665\n",
            "Epoch 2/100\n",
            "782/782 [==============================] - 4s 5ms/step - loss: 1.8571 - accuracy: 0.3187\n",
            "Epoch 3/100\n",
            "782/782 [==============================] - 3s 4ms/step - loss: 1.8339 - accuracy: 0.3275\n",
            "Epoch 4/100\n",
            "782/782 [==============================] - 3s 3ms/step - loss: 1.8127 - accuracy: 0.3352\n",
            "Epoch 5/100\n",
            "782/782 [==============================] - 3s 3ms/step - loss: 1.8091 - accuracy: 0.3357\n",
            "Epoch 6/100\n",
            "782/782 [==============================] - 2s 3ms/step - loss: 1.8039 - accuracy: 0.3372\n",
            "Epoch 7/100\n",
            "782/782 [==============================] - 2s 3ms/step - loss: 1.8060 - accuracy: 0.3353\n",
            "Epoch 8/100\n",
            "782/782 [==============================] - 3s 3ms/step - loss: 1.7993 - accuracy: 0.3391\n",
            "Epoch 9/100\n",
            "782/782 [==============================] - 3s 3ms/step - loss: 1.7925 - accuracy: 0.3411\n",
            "Epoch 10/100\n",
            "782/782 [==============================] - 3s 3ms/step - loss: 1.7897 - accuracy: 0.3419\n",
            "Epoch 11/100\n",
            "782/782 [==============================] - 3s 3ms/step - loss: 1.7889 - accuracy: 0.3433\n",
            "Epoch 12/100\n",
            "782/782 [==============================] - 3s 3ms/step - loss: 1.7939 - accuracy: 0.3404\n",
            "Epoch 13/100\n",
            "782/782 [==============================] - 3s 3ms/step - loss: 1.7839 - accuracy: 0.3426\n",
            "Epoch 14/100\n",
            "782/782 [==============================] - 3s 3ms/step - loss: 1.7769 - accuracy: 0.3481\n",
            "Epoch 15/100\n",
            "782/782 [==============================] - 3s 3ms/step - loss: 1.7810 - accuracy: 0.3471\n",
            "Epoch 16/100\n",
            "782/782 [==============================] - 2s 3ms/step - loss: 1.7844 - accuracy: 0.3412\n",
            "Epoch 17/100\n",
            "782/782 [==============================] - 3s 3ms/step - loss: 1.7756 - accuracy: 0.3484\n",
            "Epoch 18/100\n",
            "782/782 [==============================] - 2s 3ms/step - loss: 1.7642 - accuracy: 0.3516\n",
            "Epoch 19/100\n",
            "782/782 [==============================] - 3s 3ms/step - loss: 1.7667 - accuracy: 0.3530\n",
            "Epoch 20/100\n",
            "782/782 [==============================] - 3s 3ms/step - loss: 1.7737 - accuracy: 0.3491\n",
            "Epoch 21/100\n",
            "782/782 [==============================] - 3s 3ms/step - loss: 1.7615 - accuracy: 0.3575\n",
            "Epoch 22/100\n",
            "782/782 [==============================] - 2s 3ms/step - loss: 1.7657 - accuracy: 0.3523\n",
            "Epoch 23/100\n",
            "782/782 [==============================] - 3s 3ms/step - loss: 1.7783 - accuracy: 0.3467\n",
            "Epoch 24/100\n",
            "782/782 [==============================] - 3s 3ms/step - loss: 1.7747 - accuracy: 0.3501\n",
            "Epoch 25/100\n",
            "782/782 [==============================] - 3s 3ms/step - loss: 1.7676 - accuracy: 0.3540\n",
            "Epoch 26/100\n",
            "782/782 [==============================] - 3s 3ms/step - loss: 1.7654 - accuracy: 0.3505\n",
            "Epoch 27/100\n",
            "782/782 [==============================] - 3s 3ms/step - loss: 1.7630 - accuracy: 0.3508\n",
            "Epoch 28/100\n",
            "782/782 [==============================] - 3s 3ms/step - loss: 1.7637 - accuracy: 0.3521\n",
            "Epoch 29/100\n",
            "782/782 [==============================] - 3s 3ms/step - loss: 1.7586 - accuracy: 0.3533\n",
            "Epoch 30/100\n",
            "782/782 [==============================] - 3s 3ms/step - loss: 1.7545 - accuracy: 0.3589\n",
            "Epoch 31/100\n",
            "782/782 [==============================] - 3s 3ms/step - loss: 1.7456 - accuracy: 0.3606\n",
            "Epoch 32/100\n",
            "782/782 [==============================] - 2s 3ms/step - loss: 1.7635 - accuracy: 0.3559\n",
            "Epoch 33/100\n",
            "782/782 [==============================] - 2s 3ms/step - loss: 1.7601 - accuracy: 0.3549\n",
            "Epoch 34/100\n",
            "782/782 [==============================] - 2s 3ms/step - loss: 1.7464 - accuracy: 0.3587\n",
            "Epoch 35/100\n",
            "782/782 [==============================] - 3s 3ms/step - loss: 1.7577 - accuracy: 0.3554\n",
            "Epoch 36/100\n",
            "782/782 [==============================] - 3s 3ms/step - loss: 1.7578 - accuracy: 0.3551\n",
            "Epoch 37/100\n",
            "782/782 [==============================] - 2s 3ms/step - loss: 1.7516 - accuracy: 0.3595\n",
            "Epoch 38/100\n",
            "782/782 [==============================] - 3s 4ms/step - loss: 1.7524 - accuracy: 0.3599\n",
            "Epoch 39/100\n",
            "782/782 [==============================] - 3s 4ms/step - loss: 1.7399 - accuracy: 0.3637\n",
            "Epoch 40/100\n",
            "782/782 [==============================] - 2s 3ms/step - loss: 1.7425 - accuracy: 0.3609\n",
            "Epoch 41/100\n",
            "782/782 [==============================] - 3s 3ms/step - loss: 1.7568 - accuracy: 0.3550\n",
            "Epoch 42/100\n",
            "782/782 [==============================] - 2s 3ms/step - loss: 1.7386 - accuracy: 0.3636\n",
            "Epoch 43/100\n",
            "782/782 [==============================] - 2s 3ms/step - loss: 1.7568 - accuracy: 0.3565\n",
            "Epoch 44/100\n",
            "782/782 [==============================] - 3s 3ms/step - loss: 1.7380 - accuracy: 0.3595\n",
            "Epoch 45/100\n",
            "782/782 [==============================] - 3s 3ms/step - loss: 1.7442 - accuracy: 0.3570\n",
            "Epoch 46/100\n",
            "782/782 [==============================] - 3s 3ms/step - loss: 1.7410 - accuracy: 0.3607\n",
            "Epoch 47/100\n",
            "782/782 [==============================] - 3s 3ms/step - loss: 1.7270 - accuracy: 0.3640\n",
            "Epoch 48/100\n",
            "782/782 [==============================] - 3s 3ms/step - loss: 1.7313 - accuracy: 0.3643\n",
            "Epoch 49/100\n",
            "782/782 [==============================] - 3s 3ms/step - loss: 1.7340 - accuracy: 0.3630\n",
            "Epoch 50/100\n",
            "782/782 [==============================] - 3s 3ms/step - loss: 1.7287 - accuracy: 0.3655\n",
            "Epoch 51/100\n",
            "782/782 [==============================] - 3s 3ms/step - loss: 1.7254 - accuracy: 0.3657\n",
            "Epoch 52/100\n",
            "782/782 [==============================] - 3s 3ms/step - loss: 1.7338 - accuracy: 0.3604\n",
            "Epoch 53/100\n",
            "782/782 [==============================] - 3s 3ms/step - loss: 1.7286 - accuracy: 0.3638\n",
            "Epoch 54/100\n",
            "782/782 [==============================] - 3s 3ms/step - loss: 1.7238 - accuracy: 0.3663\n",
            "Epoch 55/100\n",
            "782/782 [==============================] - 2s 3ms/step - loss: 1.7203 - accuracy: 0.3680\n",
            "Epoch 56/100\n",
            "782/782 [==============================] - 3s 3ms/step - loss: 1.7251 - accuracy: 0.3622\n",
            "Epoch 57/100\n",
            "782/782 [==============================] - 3s 3ms/step - loss: 1.7376 - accuracy: 0.3563\n",
            "Epoch 58/100\n",
            "782/782 [==============================] - 3s 3ms/step - loss: 1.7179 - accuracy: 0.3673\n",
            "Epoch 59/100\n",
            "782/782 [==============================] - 3s 3ms/step - loss: 1.7234 - accuracy: 0.3640\n",
            "Epoch 60/100\n",
            "782/782 [==============================] - 3s 3ms/step - loss: 1.7187 - accuracy: 0.3688\n",
            "Epoch 61/100\n",
            "782/782 [==============================] - 3s 3ms/step - loss: 1.7463 - accuracy: 0.3512\n",
            "Epoch 62/100\n",
            "782/782 [==============================] - 3s 3ms/step - loss: 1.7165 - accuracy: 0.3709\n",
            "Epoch 63/100\n",
            "782/782 [==============================] - 3s 3ms/step - loss: 1.7256 - accuracy: 0.3649\n",
            "Epoch 64/100\n",
            "782/782 [==============================] - 3s 3ms/step - loss: 1.7184 - accuracy: 0.3678\n",
            "Epoch 65/100\n",
            "782/782 [==============================] - 3s 3ms/step - loss: 1.7261 - accuracy: 0.3638\n",
            "Epoch 66/100\n",
            "782/782 [==============================] - 3s 3ms/step - loss: 1.7198 - accuracy: 0.3688\n",
            "Epoch 67/100\n",
            "782/782 [==============================] - 3s 3ms/step - loss: 1.7178 - accuracy: 0.3663\n",
            "Epoch 68/100\n",
            "782/782 [==============================] - 3s 3ms/step - loss: 1.7595 - accuracy: 0.3492\n",
            "Epoch 69/100\n",
            "782/782 [==============================] - 3s 3ms/step - loss: 1.7426 - accuracy: 0.3525\n",
            "Epoch 70/100\n",
            "782/782 [==============================] - 3s 3ms/step - loss: 1.7158 - accuracy: 0.3657\n",
            "Epoch 71/100\n",
            "782/782 [==============================] - 3s 3ms/step - loss: 1.7565 - accuracy: 0.3361\n",
            "Epoch 72/100\n",
            "782/782 [==============================] - 3s 3ms/step - loss: 1.7782 - accuracy: 0.3174\n",
            "Epoch 73/100\n",
            "782/782 [==============================] - 3s 3ms/step - loss: 1.7943 - accuracy: 0.3124\n",
            "Epoch 74/100\n",
            "782/782 [==============================] - 3s 3ms/step - loss: 1.8116 - accuracy: 0.3055\n",
            "Epoch 75/100\n",
            "782/782 [==============================] - 3s 3ms/step - loss: 1.7843 - accuracy: 0.3137\n",
            "Epoch 76/100\n",
            "782/782 [==============================] - 3s 3ms/step - loss: 1.8151 - accuracy: 0.3023\n",
            "Epoch 77/100\n",
            "782/782 [==============================] - 3s 3ms/step - loss: 1.7757 - accuracy: 0.3149\n",
            "Epoch 78/100\n",
            "782/782 [==============================] - 3s 3ms/step - loss: 1.7915 - accuracy: 0.3131\n",
            "Epoch 79/100\n",
            "782/782 [==============================] - 3s 4ms/step - loss: 1.7833 - accuracy: 0.3152\n",
            "Epoch 80/100\n",
            "782/782 [==============================] - 3s 3ms/step - loss: 1.7793 - accuracy: 0.3181\n",
            "Epoch 81/100\n",
            "782/782 [==============================] - 3s 3ms/step - loss: 1.7818 - accuracy: 0.3185\n",
            "Epoch 82/100\n",
            "782/782 [==============================] - 3s 3ms/step - loss: 1.7776 - accuracy: 0.3148\n",
            "Epoch 83/100\n",
            "782/782 [==============================] - 3s 3ms/step - loss: 1.7834 - accuracy: 0.3141\n",
            "Epoch 84/100\n",
            "782/782 [==============================] - 3s 3ms/step - loss: 1.7818 - accuracy: 0.3168\n",
            "Epoch 85/100\n",
            "782/782 [==============================] - 3s 3ms/step - loss: 1.7676 - accuracy: 0.3240\n",
            "Epoch 86/100\n",
            "782/782 [==============================] - 3s 3ms/step - loss: 1.7752 - accuracy: 0.3230\n",
            "Epoch 87/100\n",
            "782/782 [==============================] - 3s 3ms/step - loss: 1.7735 - accuracy: 0.3251\n",
            "Epoch 88/100\n",
            "782/782 [==============================] - 3s 3ms/step - loss: 1.7826 - accuracy: 0.3196\n",
            "Epoch 89/100\n",
            "782/782 [==============================] - 3s 3ms/step - loss: 1.7757 - accuracy: 0.3256\n",
            "Epoch 90/100\n",
            "782/782 [==============================] - 3s 3ms/step - loss: 1.8204 - accuracy: 0.3022\n",
            "Epoch 91/100\n",
            "782/782 [==============================] - 3s 3ms/step - loss: 1.7980 - accuracy: 0.3198\n",
            "Epoch 92/100\n",
            "782/782 [==============================] - 3s 3ms/step - loss: 1.7758 - accuracy: 0.3297\n",
            "Epoch 93/100\n",
            "782/782 [==============================] - 3s 3ms/step - loss: 1.7827 - accuracy: 0.3268\n",
            "Epoch 94/100\n",
            "782/782 [==============================] - 3s 3ms/step - loss: 1.8051 - accuracy: 0.3091\n",
            "Epoch 95/100\n",
            "782/782 [==============================] - 3s 3ms/step - loss: 1.7717 - accuracy: 0.3220\n",
            "Epoch 96/100\n",
            "782/782 [==============================] - 3s 3ms/step - loss: 1.7631 - accuracy: 0.3276\n",
            "Epoch 97/100\n",
            "782/782 [==============================] - 3s 3ms/step - loss: 1.7707 - accuracy: 0.3246\n",
            "Epoch 98/100\n",
            "782/782 [==============================] - 3s 3ms/step - loss: 1.7720 - accuracy: 0.3253\n",
            "Epoch 99/100\n",
            "782/782 [==============================] - 3s 3ms/step - loss: 1.7719 - accuracy: 0.3246\n",
            "Epoch 100/100\n",
            "782/782 [==============================] - 3s 3ms/step - loss: 1.7728 - accuracy: 0.3264\n"
          ]
        },
        {
          "data": {
            "text/plain": [
              "<keras.callbacks.History at 0x7f374e3c3a10>"
            ]
          },
          "execution_count": null,
          "metadata": {},
          "output_type": "execute_result"
        }
      ]
    },
    {
      "cell_type": "code",
      "source": [
        "test_loss, test_acc = network.evaluate(test_images, test_labels)"
      ],
      "metadata": {
        "colab": {
          "base_uri": "https://localhost:8080/"
        },
        "id": "GXlP2SBV6JAH",
        "outputId": "8bd1d65d-8aa1-41bc-feb4-71faa14a0a67"
      },
      "execution_count": null,
      "outputs": [
        {
          "output_type": "stream",
          "name": "stdout",
          "text": [
            "313/313 [==============================] - 1s 3ms/step - loss: 1.8179 - accuracy: 0.3100\n"
          ]
        }
      ]
    },
    {
      "cell_type": "code",
      "source": [
        "print('test_acc:', test_acc)"
      ],
      "metadata": {
        "colab": {
          "base_uri": "https://localhost:8080/"
        },
        "id": "V0NhVpsi6MnD",
        "outputId": "07f1ca5d-e2d1-4c0c-ec4e-0b6ed8d7ee99"
      },
      "execution_count": null,
      "outputs": [
        {
          "output_type": "stream",
          "name": "stdout",
          "text": [
            "test_acc: 0.3100000023841858\n"
          ]
        }
      ]
    },
    {
      "cell_type": "code",
      "source": [
        ""
      ],
      "metadata": {
        "id": "EH9DckAE-sfE"
      },
      "execution_count": null,
      "outputs": []
    },
    {
      "cell_type": "markdown",
      "source": [
        "# try with validation "
      ],
      "metadata": {
        "id": "vgAenRvuAlg7"
      }
    },
    {
      "cell_type": "code",
      "source": [
        "history = network.fit(x_train, y_train, epochs=100, batch_size=128, validation_data=(x_val, y_val))"
      ],
      "metadata": {
        "colab": {
          "base_uri": "https://localhost:8080/"
        },
        "id": "JYRjnMwYApCr",
        "outputId": "cfb6e134-f4ba-457c-d53f-9b15cd241793"
      },
      "execution_count": null,
      "outputs": [
        {
          "output_type": "stream",
          "name": "stdout",
          "text": [
            "Epoch 1/100\n",
            "313/313 [==============================] - 2s 5ms/step - loss: 1.7378 - accuracy: 0.3392 - val_loss: 1.7265 - val_accuracy: 0.3489\n",
            "Epoch 2/100\n",
            "313/313 [==============================] - 2s 5ms/step - loss: 1.7367 - accuracy: 0.3383 - val_loss: 1.7332 - val_accuracy: 0.3505\n",
            "Epoch 3/100\n",
            "313/313 [==============================] - 1s 5ms/step - loss: 1.7415 - accuracy: 0.3401 - val_loss: 1.7288 - val_accuracy: 0.3465\n",
            "Epoch 4/100\n",
            "313/313 [==============================] - 2s 5ms/step - loss: 1.7343 - accuracy: 0.3417 - val_loss: 1.7276 - val_accuracy: 0.3365\n",
            "Epoch 5/100\n",
            "313/313 [==============================] - 2s 5ms/step - loss: 1.7417 - accuracy: 0.3373 - val_loss: 1.7487 - val_accuracy: 0.3367\n",
            "Epoch 6/100\n",
            "313/313 [==============================] - 2s 5ms/step - loss: 1.7429 - accuracy: 0.3395 - val_loss: 1.8176 - val_accuracy: 0.3035\n",
            "Epoch 7/100\n",
            "313/313 [==============================] - 2s 5ms/step - loss: 1.7406 - accuracy: 0.3411 - val_loss: 1.7435 - val_accuracy: 0.3400\n",
            "Epoch 8/100\n",
            "313/313 [==============================] - 1s 5ms/step - loss: 1.7376 - accuracy: 0.3433 - val_loss: 1.7464 - val_accuracy: 0.3410\n",
            "Epoch 9/100\n",
            "313/313 [==============================] - 1s 5ms/step - loss: 1.7325 - accuracy: 0.3458 - val_loss: 1.7712 - val_accuracy: 0.3324\n",
            "Epoch 10/100\n",
            "313/313 [==============================] - 2s 5ms/step - loss: 1.7319 - accuracy: 0.3421 - val_loss: 1.7278 - val_accuracy: 0.3400\n",
            "Epoch 11/100\n",
            "313/313 [==============================] - 1s 5ms/step - loss: 1.7505 - accuracy: 0.3367 - val_loss: 1.7956 - val_accuracy: 0.3155\n",
            "Epoch 12/100\n",
            "313/313 [==============================] - 1s 4ms/step - loss: 1.7472 - accuracy: 0.3385 - val_loss: 1.7194 - val_accuracy: 0.3535\n",
            "Epoch 13/100\n",
            "313/313 [==============================] - 1s 5ms/step - loss: 1.7373 - accuracy: 0.3471 - val_loss: 1.7284 - val_accuracy: 0.3479\n",
            "Epoch 14/100\n",
            "313/313 [==============================] - 1s 5ms/step - loss: 1.7295 - accuracy: 0.3485 - val_loss: 1.7332 - val_accuracy: 0.3488\n",
            "Epoch 15/100\n",
            "313/313 [==============================] - 2s 5ms/step - loss: 1.7355 - accuracy: 0.3411 - val_loss: 1.7630 - val_accuracy: 0.3344\n",
            "Epoch 16/100\n",
            "313/313 [==============================] - 1s 5ms/step - loss: 1.7322 - accuracy: 0.3433 - val_loss: 1.7309 - val_accuracy: 0.3522\n",
            "Epoch 17/100\n",
            "313/313 [==============================] - 2s 5ms/step - loss: 1.7356 - accuracy: 0.3414 - val_loss: 1.7366 - val_accuracy: 0.3489\n",
            "Epoch 18/100\n",
            "313/313 [==============================] - 1s 5ms/step - loss: 1.7279 - accuracy: 0.3452 - val_loss: 1.7299 - val_accuracy: 0.3481\n",
            "Epoch 19/100\n",
            "313/313 [==============================] - 2s 5ms/step - loss: 1.7364 - accuracy: 0.3426 - val_loss: 1.7652 - val_accuracy: 0.3420\n",
            "Epoch 20/100\n",
            "313/313 [==============================] - 1s 5ms/step - loss: 1.7317 - accuracy: 0.3447 - val_loss: 1.7473 - val_accuracy: 0.3418\n",
            "Epoch 21/100\n",
            "313/313 [==============================] - 2s 5ms/step - loss: 1.7401 - accuracy: 0.3416 - val_loss: 1.7816 - val_accuracy: 0.3368\n",
            "Epoch 22/100\n",
            "313/313 [==============================] - 1s 4ms/step - loss: 1.7321 - accuracy: 0.3460 - val_loss: 1.7240 - val_accuracy: 0.3605\n",
            "Epoch 23/100\n",
            "313/313 [==============================] - 1s 4ms/step - loss: 1.7386 - accuracy: 0.3422 - val_loss: 1.7507 - val_accuracy: 0.3378\n",
            "Epoch 24/100\n",
            "313/313 [==============================] - 1s 4ms/step - loss: 1.7417 - accuracy: 0.3373 - val_loss: 1.7309 - val_accuracy: 0.3505\n",
            "Epoch 25/100\n",
            "313/313 [==============================] - 2s 5ms/step - loss: 1.7431 - accuracy: 0.3393 - val_loss: 1.7357 - val_accuracy: 0.3486\n",
            "Epoch 26/100\n",
            "313/313 [==============================] - 2s 5ms/step - loss: 1.7321 - accuracy: 0.3436 - val_loss: 1.7836 - val_accuracy: 0.3293\n",
            "Epoch 27/100\n",
            "313/313 [==============================] - 1s 4ms/step - loss: 1.7356 - accuracy: 0.3424 - val_loss: 1.7707 - val_accuracy: 0.3302\n",
            "Epoch 28/100\n",
            "313/313 [==============================] - 1s 5ms/step - loss: 1.7366 - accuracy: 0.3422 - val_loss: 1.7452 - val_accuracy: 0.3486\n",
            "Epoch 29/100\n",
            "313/313 [==============================] - 1s 5ms/step - loss: 1.7335 - accuracy: 0.3449 - val_loss: 1.7549 - val_accuracy: 0.3312\n",
            "Epoch 30/100\n",
            "313/313 [==============================] - 1s 5ms/step - loss: 1.7321 - accuracy: 0.3451 - val_loss: 1.7422 - val_accuracy: 0.3482\n",
            "Epoch 31/100\n",
            "313/313 [==============================] - 1s 5ms/step - loss: 1.7242 - accuracy: 0.3486 - val_loss: 1.7388 - val_accuracy: 0.3435\n",
            "Epoch 32/100\n",
            "313/313 [==============================] - 1s 5ms/step - loss: 1.7271 - accuracy: 0.3482 - val_loss: 1.7326 - val_accuracy: 0.3546\n",
            "Epoch 33/100\n",
            "313/313 [==============================] - 1s 5ms/step - loss: 1.7172 - accuracy: 0.3524 - val_loss: 1.7415 - val_accuracy: 0.3474\n",
            "Epoch 34/100\n",
            "313/313 [==============================] - 2s 5ms/step - loss: 1.7316 - accuracy: 0.3464 - val_loss: 1.7615 - val_accuracy: 0.3351\n",
            "Epoch 35/100\n",
            "313/313 [==============================] - 1s 4ms/step - loss: 1.7325 - accuracy: 0.3464 - val_loss: 1.7397 - val_accuracy: 0.3487\n",
            "Epoch 36/100\n",
            "313/313 [==============================] - 2s 5ms/step - loss: 1.7214 - accuracy: 0.3487 - val_loss: 1.7624 - val_accuracy: 0.3289\n",
            "Epoch 37/100\n",
            "313/313 [==============================] - 2s 5ms/step - loss: 1.7289 - accuracy: 0.3483 - val_loss: 1.7715 - val_accuracy: 0.3394\n",
            "Epoch 38/100\n",
            "313/313 [==============================] - 1s 4ms/step - loss: 1.7250 - accuracy: 0.3480 - val_loss: 1.7406 - val_accuracy: 0.3562\n",
            "Epoch 39/100\n",
            "313/313 [==============================] - 1s 5ms/step - loss: 1.7354 - accuracy: 0.3423 - val_loss: 1.7713 - val_accuracy: 0.3415\n",
            "Epoch 40/100\n",
            "313/313 [==============================] - 2s 5ms/step - loss: 1.7297 - accuracy: 0.3497 - val_loss: 1.7650 - val_accuracy: 0.3424\n",
            "Epoch 41/100\n",
            "313/313 [==============================] - 1s 5ms/step - loss: 1.7241 - accuracy: 0.3497 - val_loss: 1.7731 - val_accuracy: 0.3182\n",
            "Epoch 42/100\n",
            "313/313 [==============================] - 1s 4ms/step - loss: 1.7475 - accuracy: 0.3367 - val_loss: 1.7492 - val_accuracy: 0.3331\n",
            "Epoch 43/100\n",
            "313/313 [==============================] - 2s 5ms/step - loss: 1.7351 - accuracy: 0.3416 - val_loss: 1.7522 - val_accuracy: 0.3451\n",
            "Epoch 44/100\n",
            "313/313 [==============================] - 2s 5ms/step - loss: 1.7253 - accuracy: 0.3471 - val_loss: 1.7649 - val_accuracy: 0.3428\n",
            "Epoch 45/100\n",
            "313/313 [==============================] - 2s 5ms/step - loss: 1.7227 - accuracy: 0.3480 - val_loss: 1.7864 - val_accuracy: 0.3355\n",
            "Epoch 46/100\n",
            "313/313 [==============================] - 1s 5ms/step - loss: 1.7427 - accuracy: 0.3383 - val_loss: 1.8067 - val_accuracy: 0.3016\n",
            "Epoch 47/100\n",
            "313/313 [==============================] - 1s 5ms/step - loss: 1.7367 - accuracy: 0.3429 - val_loss: 1.7668 - val_accuracy: 0.3400\n",
            "Epoch 48/100\n",
            "313/313 [==============================] - 2s 5ms/step - loss: 1.7357 - accuracy: 0.3438 - val_loss: 1.7966 - val_accuracy: 0.3306\n",
            "Epoch 49/100\n",
            "313/313 [==============================] - 1s 5ms/step - loss: 1.7245 - accuracy: 0.3498 - val_loss: 1.7637 - val_accuracy: 0.3375\n",
            "Epoch 50/100\n",
            "313/313 [==============================] - 2s 5ms/step - loss: 1.7468 - accuracy: 0.3374 - val_loss: 1.7407 - val_accuracy: 0.3487\n",
            "Epoch 51/100\n",
            "313/313 [==============================] - 1s 4ms/step - loss: 1.7170 - accuracy: 0.3501 - val_loss: 1.7385 - val_accuracy: 0.3483\n",
            "Epoch 52/100\n",
            "313/313 [==============================] - 2s 5ms/step - loss: 1.7213 - accuracy: 0.3494 - val_loss: 1.7536 - val_accuracy: 0.3470\n",
            "Epoch 53/100\n",
            "313/313 [==============================] - 2s 5ms/step - loss: 1.7283 - accuracy: 0.3457 - val_loss: 1.7667 - val_accuracy: 0.3367\n",
            "Epoch 54/100\n",
            "313/313 [==============================] - 2s 5ms/step - loss: 1.7334 - accuracy: 0.3459 - val_loss: 1.7599 - val_accuracy: 0.3354\n",
            "Epoch 55/100\n",
            "313/313 [==============================] - 2s 5ms/step - loss: 1.7176 - accuracy: 0.3514 - val_loss: 1.7824 - val_accuracy: 0.3312\n",
            "Epoch 56/100\n",
            "313/313 [==============================] - 2s 5ms/step - loss: 1.7493 - accuracy: 0.3403 - val_loss: 1.7562 - val_accuracy: 0.3489\n",
            "Epoch 57/100\n",
            "313/313 [==============================] - 2s 5ms/step - loss: 1.7186 - accuracy: 0.3495 - val_loss: 1.7417 - val_accuracy: 0.3533\n",
            "Epoch 58/100\n",
            "313/313 [==============================] - 1s 4ms/step - loss: 1.7369 - accuracy: 0.3446 - val_loss: 1.7780 - val_accuracy: 0.3406\n",
            "Epoch 59/100\n",
            "313/313 [==============================] - 2s 5ms/step - loss: 1.7177 - accuracy: 0.3500 - val_loss: 1.8548 - val_accuracy: 0.3084\n",
            "Epoch 60/100\n",
            "313/313 [==============================] - 1s 5ms/step - loss: 1.7183 - accuracy: 0.3506 - val_loss: 1.7469 - val_accuracy: 0.3463\n",
            "Epoch 61/100\n",
            "313/313 [==============================] - 2s 5ms/step - loss: 1.7267 - accuracy: 0.3482 - val_loss: 1.7428 - val_accuracy: 0.3433\n",
            "Epoch 62/100\n",
            "313/313 [==============================] - 1s 4ms/step - loss: 1.7124 - accuracy: 0.3547 - val_loss: 1.7653 - val_accuracy: 0.3408\n",
            "Epoch 63/100\n",
            "313/313 [==============================] - 1s 4ms/step - loss: 1.7178 - accuracy: 0.3532 - val_loss: 1.7589 - val_accuracy: 0.3444\n",
            "Epoch 64/100\n",
            "313/313 [==============================] - 2s 5ms/step - loss: 1.7154 - accuracy: 0.3535 - val_loss: 1.7444 - val_accuracy: 0.3512\n",
            "Epoch 65/100\n",
            "313/313 [==============================] - 1s 4ms/step - loss: 1.7181 - accuracy: 0.3495 - val_loss: 1.7674 - val_accuracy: 0.3412\n",
            "Epoch 66/100\n",
            "313/313 [==============================] - 1s 4ms/step - loss: 1.7178 - accuracy: 0.3539 - val_loss: 1.7559 - val_accuracy: 0.3375\n",
            "Epoch 67/100\n",
            "313/313 [==============================] - 2s 5ms/step - loss: 1.7138 - accuracy: 0.3520 - val_loss: 1.7610 - val_accuracy: 0.3325\n",
            "Epoch 68/100\n",
            "313/313 [==============================] - 1s 5ms/step - loss: 1.7246 - accuracy: 0.3494 - val_loss: 1.7341 - val_accuracy: 0.3491\n",
            "Epoch 69/100\n",
            "313/313 [==============================] - 1s 4ms/step - loss: 1.7129 - accuracy: 0.3535 - val_loss: 1.7452 - val_accuracy: 0.3462\n",
            "Epoch 70/100\n",
            "313/313 [==============================] - 1s 5ms/step - loss: 1.7211 - accuracy: 0.3501 - val_loss: 1.7817 - val_accuracy: 0.3359\n",
            "Epoch 71/100\n",
            "313/313 [==============================] - 1s 5ms/step - loss: 1.7301 - accuracy: 0.3478 - val_loss: 1.7459 - val_accuracy: 0.3512\n",
            "Epoch 72/100\n",
            "313/313 [==============================] - 1s 5ms/step - loss: 1.7284 - accuracy: 0.3437 - val_loss: 1.7518 - val_accuracy: 0.3311\n",
            "Epoch 73/100\n",
            "313/313 [==============================] - 2s 5ms/step - loss: 1.7142 - accuracy: 0.3503 - val_loss: 1.7765 - val_accuracy: 0.3187\n",
            "Epoch 74/100\n",
            "313/313 [==============================] - 1s 5ms/step - loss: 1.7395 - accuracy: 0.3396 - val_loss: 1.7594 - val_accuracy: 0.3456\n",
            "Epoch 75/100\n",
            "313/313 [==============================] - 1s 4ms/step - loss: 1.7264 - accuracy: 0.3465 - val_loss: 1.7934 - val_accuracy: 0.3229\n",
            "Epoch 76/100\n",
            "313/313 [==============================] - 2s 5ms/step - loss: 1.7102 - accuracy: 0.3525 - val_loss: 1.7603 - val_accuracy: 0.3383\n",
            "Epoch 77/100\n",
            "313/313 [==============================] - 2s 5ms/step - loss: 1.7137 - accuracy: 0.3535 - val_loss: 1.7448 - val_accuracy: 0.3496\n",
            "Epoch 78/100\n",
            "313/313 [==============================] - 2s 5ms/step - loss: 1.7199 - accuracy: 0.3477 - val_loss: 1.7592 - val_accuracy: 0.3442\n",
            "Epoch 79/100\n",
            "313/313 [==============================] - 1s 5ms/step - loss: 1.7222 - accuracy: 0.3505 - val_loss: 1.7694 - val_accuracy: 0.3422\n",
            "Epoch 80/100\n",
            "313/313 [==============================] - 1s 5ms/step - loss: 1.8053 - accuracy: 0.3121 - val_loss: 1.8196 - val_accuracy: 0.3204\n",
            "Epoch 81/100\n",
            "313/313 [==============================] - 2s 5ms/step - loss: 1.7834 - accuracy: 0.3297 - val_loss: 1.8213 - val_accuracy: 0.3121\n",
            "Epoch 82/100\n",
            "313/313 [==============================] - 1s 4ms/step - loss: 1.7677 - accuracy: 0.3361 - val_loss: 1.7819 - val_accuracy: 0.3377\n",
            "Epoch 83/100\n",
            "313/313 [==============================] - 1s 4ms/step - loss: 1.7615 - accuracy: 0.3390 - val_loss: 1.7801 - val_accuracy: 0.3303\n",
            "Epoch 84/100\n",
            "313/313 [==============================] - 1s 5ms/step - loss: 1.7534 - accuracy: 0.3388 - val_loss: 1.7878 - val_accuracy: 0.3131\n",
            "Epoch 85/100\n",
            "313/313 [==============================] - 2s 5ms/step - loss: 1.7280 - accuracy: 0.3448 - val_loss: 1.7472 - val_accuracy: 0.3413\n",
            "Epoch 86/100\n",
            "313/313 [==============================] - 1s 4ms/step - loss: 1.7360 - accuracy: 0.3380 - val_loss: 1.7567 - val_accuracy: 0.3270\n",
            "Epoch 87/100\n",
            "313/313 [==============================] - 2s 5ms/step - loss: 1.7233 - accuracy: 0.3455 - val_loss: 1.7782 - val_accuracy: 0.3258\n",
            "Epoch 88/100\n",
            "313/313 [==============================] - 1s 5ms/step - loss: 1.7355 - accuracy: 0.3426 - val_loss: 1.7692 - val_accuracy: 0.3225\n",
            "Epoch 89/100\n",
            "313/313 [==============================] - 2s 5ms/step - loss: 1.7308 - accuracy: 0.3420 - val_loss: 1.7431 - val_accuracy: 0.3464\n",
            "Epoch 90/100\n",
            "313/313 [==============================] - 2s 5ms/step - loss: 1.7130 - accuracy: 0.3474 - val_loss: 1.7600 - val_accuracy: 0.3356\n",
            "Epoch 91/100\n",
            "313/313 [==============================] - 2s 5ms/step - loss: 1.7232 - accuracy: 0.3467 - val_loss: 1.7610 - val_accuracy: 0.3446\n",
            "Epoch 92/100\n",
            "313/313 [==============================] - 2s 5ms/step - loss: 1.7071 - accuracy: 0.3499 - val_loss: 1.7481 - val_accuracy: 0.3407\n",
            "Epoch 93/100\n",
            "313/313 [==============================] - 2s 5ms/step - loss: 1.7215 - accuracy: 0.3485 - val_loss: 1.7488 - val_accuracy: 0.3432\n",
            "Epoch 94/100\n",
            "313/313 [==============================] - 1s 5ms/step - loss: 1.7297 - accuracy: 0.3461 - val_loss: 1.8478 - val_accuracy: 0.3037\n",
            "Epoch 95/100\n",
            "313/313 [==============================] - 2s 5ms/step - loss: 1.7261 - accuracy: 0.3423 - val_loss: 1.7571 - val_accuracy: 0.3372\n",
            "Epoch 96/100\n",
            "313/313 [==============================] - 1s 5ms/step - loss: 1.7183 - accuracy: 0.3482 - val_loss: 1.7692 - val_accuracy: 0.3304\n",
            "Epoch 97/100\n",
            "313/313 [==============================] - 1s 5ms/step - loss: 1.7199 - accuracy: 0.3427 - val_loss: 1.7410 - val_accuracy: 0.3488\n",
            "Epoch 98/100\n",
            "313/313 [==============================] - 2s 5ms/step - loss: 1.7179 - accuracy: 0.3510 - val_loss: 1.7676 - val_accuracy: 0.3295\n",
            "Epoch 99/100\n",
            "313/313 [==============================] - 2s 5ms/step - loss: 1.7199 - accuracy: 0.3476 - val_loss: 1.7464 - val_accuracy: 0.3435\n",
            "Epoch 100/100\n",
            "313/313 [==============================] - 1s 4ms/step - loss: 1.7133 - accuracy: 0.3533 - val_loss: 1.7485 - val_accuracy: 0.3482\n"
          ]
        }
      ]
    },
    {
      "cell_type": "markdown",
      "source": [
        "# training loss vs. validation loss over the number of epochs"
      ],
      "metadata": {
        "id": "lgtuXKE1BX_S"
      }
    },
    {
      "cell_type": "code",
      "source": [
        "loss_train = history.history['loss']\n",
        "loss_val = history.history['val_loss']\n",
        "epochs = range(1,101)\n",
        "plt.plot(epochs, loss_train, 'g', label='Training loss')\n",
        "plt.plot(epochs, loss_val, 'b', label='validation loss')\n",
        "plt.title('Training and Validation loss')\n",
        "plt.xlabel('Epochs')\n",
        "plt.ylabel('Loss')\n",
        "plt.legend()\n",
        "plt.show()"
      ],
      "metadata": {
        "colab": {
          "base_uri": "https://localhost:8080/",
          "height": 295
        },
        "id": "z0nQ9W0XAo6S",
        "outputId": "3510a66b-ea24-4f65-976d-c18a110860c5"
      },
      "execution_count": null,
      "outputs": [
        {
          "output_type": "display_data",
          "data": {
            "text/plain": [
              "<Figure size 432x288 with 1 Axes>"
            ],
            "image/png": "[encoded data removed]"
          },
          "metadata": {
            "needs_background": "light"
          }
        }
      ]
    },
    {
      "cell_type": "markdown",
      "source": [
        "# test model"
      ],
      "metadata": {
        "id": "1OCLNHU1Cua8"
      }
    },
    {
      "cell_type": "code",
      "source": [
        "test_loss, test_acc = network.evaluate(test_images, test_labels)"
      ],
      "metadata": {
        "colab": {
          "base_uri": "https://localhost:8080/"
        },
        "id": "vhiV_9UKCCM4",
        "outputId": "ebf00ec3-a0d3-454e-ce9d-1399934e7938"
      },
      "execution_count": null,
      "outputs": [
        {
          "output_type": "stream",
          "name": "stdout",
          "text": [
            "313/313 [==============================] - 1s 3ms/step - loss: 1.7884 - accuracy: 0.3335\n"
          ]
        }
      ]
    },
    {
      "cell_type": "code",
      "source": [
        "print('test_acc:', test_acc)"
      ],
      "metadata": {
        "colab": {
          "base_uri": "https://localhost:8080/"
        },
        "id": "ZzTMrEAXCzf6",
        "outputId": "d3dba91d-41b3-473d-abf8-c0fcbb5a1ba6"
      },
      "execution_count": null,
      "outputs": [
        {
          "output_type": "stream",
          "name": "stdout",
          "text": [
            "test_acc: 0.3334999978542328\n"
          ]
        }
      ]
    },
    {
      "cell_type": "code",
      "source": [
        ""
      ],
      "metadata": {
        "id": "qDltIbjqCIdD"
      },
      "execution_count": null,
      "outputs": []
    }
  ]
}